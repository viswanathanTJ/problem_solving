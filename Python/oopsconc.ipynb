{
 "cells": [
  {
   "cell_type": "code",
   "execution_count": 1,
   "metadata": {},
   "outputs": [
    {
     "name": "stdout",
     "output_type": "stream",
     "text": [
      "Employee invoked\n",
      "Person invoked\n",
      "Employee Details\n",
      "Name is naruto id is 1 sal is 1800000\n",
      "Name is naruto id is 1\n",
      "Person invoked\n",
      "details person\n",
      "Name is naruto id is 2\n",
      "Employee invoked\n",
      "Person invoked\n",
      "Person invoked\n",
      "Company invoked\n"
     ]
    }
   ],
   "source": [
    "## INHERITANCE\n",
    "class Person():\n",
    "    def __init__(self, name, id):\n",
    "        self.name = name\n",
    "        self.id = id\n",
    "        print('Person invoked')\n",
    "\n",
    "    def display(self):\n",
    "        print(f'Name is {self.name} id is {self.id}')\n",
    "\n",
    "    def details(self):\n",
    "        print('details person')\n",
    "        print(f'Name is {self.name} id is {self.id}')\n",
    "\n",
    "\n",
    "class Employee(Person):\n",
    "    def __init__(self, name, id, salary, role):\n",
    "        self.name = name\n",
    "        self.id = id\n",
    "        self.salary = salary\n",
    "        self.role = role\n",
    "        print('Employee invoked')\n",
    "        super().__init__(name, id)\n",
    "\n",
    "    def details(self):\n",
    "        print('Employee Details')\n",
    "        print(f'Name is {self.name} id is {self.id} sal is {self.salary}')\n",
    "\n",
    "class Company(Employee, Person):\n",
    "    def __init__(self):\n",
    "        # super()\n",
    "        super(Company, self).__init__('naruto', 1, 1800000, 'Developer')\n",
    "        Person.__init__(self, 'viswa', '1')\n",
    "        print('Company invoked')\n",
    "\n",
    "a = Employee('naruto', 1, 1800000, 'Developer')\n",
    "a.details()\n",
    "a.display()\n",
    "b = Person('naruto', 2)\n",
    "b.details()\n",
    "c = Company()\n"
   ]
  },
  {
   "cell_type": "code",
   "execution_count": 3,
   "metadata": {},
   "outputs": [
    {
     "name": "stdout",
     "output_type": "stream",
     "text": [
      "second\n",
      "first\n",
      "third\n"
     ]
    }
   ],
   "source": [
    "class First(object):\n",
    "    def __init__(self):\n",
    "        super(First, self).__init__()\n",
    "        print(\"first\")\n",
    "class Second(object):\n",
    "    def __init__(self):\n",
    "        super(Second, self).__init__()\n",
    "        print(\"second\")\n",
    "class Third(First, Second):\n",
    "    def __init__(self):\n",
    "        super(Third, self).__init__()\n",
    "        print(\"third\")\n",
    "\n",
    "t = Third()"
   ]
  },
  {
   "cell_type": "code",
   "execution_count": 5,
   "metadata": {},
   "outputs": [
    {
     "name": "stdout",
     "output_type": "stream",
     "text": [
      "Third(): entering\n",
      "First(): entering\n",
      "Second(): entering\n",
      "Second(): exiting\n",
      "First(): exiting\n",
      "Third(): exiting\n"
     ]
    }
   ],
   "source": [
    "class First(object):\n",
    "  def __init__(self):\n",
    "    print(\"First(): entering\")\n",
    "    super(First, self).__init__()\n",
    "    print(\"First(): exiting\")\n",
    "\n",
    "\n",
    "class Second(object):\n",
    "  def __init__(self):\n",
    "    print(\"Second(): entering\")\n",
    "    super(Second, self).__init__()\n",
    "    print(\"Second(): exiting\")\n",
    "\n",
    "\n",
    "class Third(First, Second):\n",
    "  def __init__(self):\n",
    "    print(\"Third(): entering\")\n",
    "    super(Third, self).__init__()\n",
    "    print(\"Third(): exiting\")\n",
    "t = Third()\n"
   ]
  },
  {
   "cell_type": "code",
   "execution_count": 17,
   "metadata": {},
   "outputs": [
    {
     "name": "stdout",
     "output_type": "stream",
     "text": [
      "Ostrich can fly\n",
      "Duck cant fly\n"
     ]
    }
   ],
   "source": [
    "## POLYMORPHISM\n",
    "class Birds():\n",
    "    def intro(self):\n",
    "        print('This is a bird')\n",
    "    def eligibility(self):\n",
    "        print('Some birds can fly some cant')\n",
    "\n",
    "class Person():\n",
    "    def __init__(self):\n",
    "        print(\"Person invoked\")\n",
    "\n",
    "class Ostrich(Birds):\n",
    "    # def __init__(self):\n",
    "    #     Person.__init__(self)\n",
    "    #     Birds().__init__()\n",
    "\n",
    "    def eligibility(self):\n",
    "        print('Ostrich can fly')\n",
    "\n",
    "class Duck(Birds):\n",
    "    def eligibility(self):\n",
    "        print('Duck cant fly')\n",
    "\n",
    "ost = Ostrich()\n",
    "duck = Duck()\n",
    "# Ostrich(duck)\n",
    "ost.eligibility()\n",
    "duck.eligibility()"
   ]
  },
  {
   "cell_type": "code",
   "execution_count": 6,
   "metadata": {},
   "outputs": [
    {
     "name": "stdout",
     "output_type": "stream",
     "text": [
      "1\n",
      "2\n"
     ]
    }
   ],
   "source": [
    "## CLASS METHOD\n",
    "class Person:\n",
    "    no_of_persons = 0\n",
    "    def __init__(self, name, age):\n",
    "        self.name = name\n",
    "        self.age = age\n",
    "        Person.add_person()\n",
    "    \n",
    "    @classmethod\n",
    "    def get_num_of_persons(cls):\n",
    "        return cls.no_of_persons\n",
    "    \n",
    "    @classmethod\n",
    "    def add_person(cls):\n",
    "        cls.no_of_persons += 1\n",
    "\n",
    "p1 = Person('viswa', 21)\n",
    "print(p1.get_num_of_persons())\n",
    "p2 = Person('siva', 21)\n",
    "print(Person.get_num_of_persons())"
   ]
  },
  {
   "cell_type": "code",
   "execution_count": 8,
   "metadata": {},
   "outputs": [
    {
     "name": "stdout",
     "output_type": "stream",
     "text": [
      "8\n"
     ]
    }
   ],
   "source": [
    "## STATIC METHOD\n",
    "class Math:\n",
    "    @staticmethod\n",
    "    def add5(x):\n",
    "        return x+5\n",
    "\n",
    "m = Math()\n",
    "print(m.add5(3))"
   ]
  },
  {
   "cell_type": "code",
   "execution_count": 14,
   "metadata": {},
   "outputs": [
    {
     "name": "stdout",
     "output_type": "stream",
     "text": [
      "viswa 21\n",
      "dell 53000\n"
     ]
    }
   ],
   "source": [
    "## INNER CLASS\n",
    "class student:\n",
    "    def __init__(self, name, age):\n",
    "        self.name = name\n",
    "        self.age = age\n",
    "    def show(self):\n",
    "        print(self.name, self.age)\n",
    "    class laptop:\n",
    "        def __init__(self, brand, cost):\n",
    "            self.brand = brand\n",
    "            self.cost = cost\n",
    "        def show(self):\n",
    "            print(self.brand, self.cost)\n",
    "\n",
    "s = student('viswa', 21)\n",
    "sl = student.laptop('dell',53000)\n",
    "s.show()\n",
    "sl.show()"
   ]
  }
 ],
 "metadata": {
  "interpreter": {
   "hash": "35b28cbabc65dcfbd1f15546053148421cedf1f6ae2afc44576f696dc8394d0d"
  },
  "kernelspec": {
   "display_name": "Python 3.9.7 ('base')",
   "language": "python",
   "name": "python3"
  },
  "language_info": {
   "codemirror_mode": {
    "name": "ipython",
    "version": 3
   },
   "file_extension": ".py",
   "mimetype": "text/x-python",
   "name": "python",
   "nbconvert_exporter": "python",
   "pygments_lexer": "ipython3",
   "version": "3.9.7"
  },
  "orig_nbformat": 4
 },
 "nbformat": 4,
 "nbformat_minor": 2
}
